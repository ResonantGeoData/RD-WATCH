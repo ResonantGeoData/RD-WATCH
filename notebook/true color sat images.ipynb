{
 "cells": [
  {
   "cell_type": "code",
   "execution_count": 1,
   "id": "bd847093-1e05-462c-8d5f-5e2da7c1c589",
   "metadata": {},
   "outputs": [],
   "source": [
    "import os\n",
    "from pprint import pprint\n",
    "from PIL import Image\n",
    "import numpy as np\n",
    "import rasterio\n",
    "from rio_tiler.io import STACReader\n",
    "from rio_tiler.io.rasterio import Reader\n",
    "from rasterio.plot import reshape_as_image\n",
    "from pystac_client import Client\n",
    "from pystac import Item\n",
    "from dataclasses import dataclass"
   ]
  },
  {
   "cell_type": "code",
   "execution_count": 219,
   "id": "6097589d-554c-4a48-b26c-438a8032f095",
   "metadata": {},
   "outputs": [],
   "source": [
    "ELEMENT84_BASE_URL = 'https://earth-search.aws.element84.com/v1/'\n",
    "E84_COLLECTION = 'sentinel-2-c1-l2a'\n",
    "BBOX = {\n",
    "    'test': [-118.6106,33.6712,-116.6877,34.9933],\n",
    "    'uganda': [27.5968,-4.3307,36.8378,3.2935],\n",
    "    'sadat': [30.317347,30.326325,30.575375,30.473935],\n",
    "    'tocopilla': [-70.29301,-22.158244,-70.068124,-22.001797],\n",
    "    'topeka': [-95.794928,39.008084,-95.614374,39.132846],\n",
    "    'charleston, wv': [-83.2226,37.677,-80.6133,39.1619],\n",
    "    'AE_C001_0002': [54.988546510801605, 24.907741125789755, 55.00809926263708, 24.927582519228114],\n",
    "}"
   ]
  },
  {
   "cell_type": "code",
   "execution_count": 220,
   "id": "e2347fdc-62fc-4256-a99f-37514d314028",
   "metadata": {},
   "outputs": [],
   "source": [
    "def update_assets_prefer_s3(item: Item):\n",
    "    for asset in item.assets.values():\n",
    "        match asset.extra_fields:\n",
    "            case {'alternate': {'s3': {'href': uri}}}:\n",
    "                asset.href = uri\n",
    "\n",
    "def get_stac_first_item(base_url: str, collection: str, bbox: list[float]):\n",
    "    client = Client.open(base_url)\n",
    "    results = client.search(\n",
    "        method='GET',\n",
    "        bbox=bbox,\n",
    "        datetime='2024-10-01T00:00:00Z/2024-10-07T00:00:00Z',\n",
    "        collections=[collection],\n",
    "        limit=5,\n",
    "    )\n",
    "    item = next(results.items())\n",
    "    update_assets_prefer_s3(item)\n",
    "    return item\n",
    "\n",
    "def get_rescale_range(stats, keys: list[str]):\n",
    "    rstats = stats[keys[0]]\n",
    "    gstats = stats[keys[1]]\n",
    "    bstats = stats[keys[2]]\n",
    "    return (\n",
    "        (rstats.min, rstats.max),\n",
    "        (gstats.min, gstats.max),\n",
    "        (bstats.min, bstats.max),\n",
    "    )"
   ]
  },
  {
   "cell_type": "code",
   "execution_count": 221,
   "id": "0aa1088b-05f4-49df-8567-05fd0b467459",
   "metadata": {},
   "outputs": [],
   "source": [
    "item = get_stac_first_item(ELEMENT84_BASE_URL, E84_COLLECTION, BBOX['test'])\n",
    "stac = STACReader(None, item=item.to_dict())\n",
    "cloud_cover = stac.item.properties.get('eo:cloud_cover', 0)\n",
    "\n",
    "center = [\n",
    "    (stac.bounds[0] + stac.bounds[2]) / 2,\n",
    "    (stac.bounds[1] + stac.bounds[3]) / 2,\n",
    "]\n",
    "dims = [\n",
    "    abs(stac.bounds[2] - stac.bounds[0]),\n",
    "    abs(stac.bounds[3] - stac.bounds[1]),\n",
    "]\n",
    "shrink_pc = 0.5 # shrink percent\n",
    "bounds = [\n",
    "    center[0] - shrink_pc * dims[0]/2,\n",
    "    center[1] - shrink_pc * dims[1]/2,\n",
    "    center[0] + shrink_pc * dims[0]/2,\n",
    "    center[1] + shrink_pc * dims[1]/2,\n",
    "]\n",
    "\n",
    "stats = stac.merged_statistics(assets=['red', 'green', 'blue', 'visual'])"
   ]
  },
  {
   "cell_type": "markdown",
   "id": "c7f3000f-dc46-46ba-a66f-02d77b58b9fb",
   "metadata": {},
   "source": [
    "# RGB concat"
   ]
  },
  {
   "cell_type": "code",
   "execution_count": 222,
   "id": "b49ee005-35df-4be7-8d23-366d47ac1864",
   "metadata": {},
   "outputs": [],
   "source": [
    "rgb_im = stac.part(bounds, assets=['red', 'green', 'blue'])"
   ]
  },
  {
   "cell_type": "markdown",
   "id": "b050c66f-a3a1-4a91-9eaa-ab7e856308be",
   "metadata": {},
   "source": [
    "## plain concat"
   ]
  },
  {
   "cell_type": "code",
   "execution_count": 223,
   "id": "d34f4cf6-cfce-4eac-9824-4bbeed08feed",
   "metadata": {},
   "outputs": [],
   "source": [
    "rgb_im_rescaled = rgb_im.from_array(rgb_im.data)"
   ]
  },
  {
   "cell_type": "code",
   "execution_count": 224,
   "id": "8b3c73fe-eaeb-4cfe-9c35-104b3f707b5f",
   "metadata": {},
   "outputs": [],
   "source": [
    "rgb_im_stats = rgb_im.statistics()"
   ]
  },
  {
   "cell_type": "code",
   "execution_count": 225,
   "id": "4f72b00d-3d33-48b6-bd7e-793044697ad2",
   "metadata": {},
   "outputs": [],
   "source": [
    "rgb_im_rescaled.rescale(get_rescale_range(stats, ['red_b1', 'green_b1', 'blue_b1']))\n",
    "Image.fromarray(rgb_im_rescaled.data_as_image()).save('./_rgbconcat.png')"
   ]
  },
  {
   "cell_type": "markdown",
   "id": "27c7eb8e-c2f7-4094-b9c9-1303458adb1f",
   "metadata": {},
   "source": [
    "## corrected"
   ]
  },
  {
   "cell_type": "code",
   "execution_count": 226,
   "id": "ce7f872d-7351-4e87-a77a-d2855bedb3d7",
   "metadata": {},
   "outputs": [],
   "source": [
    "reflectance = rgb_im.data / 10_000\n",
    "img = reflectance * 1.1\n",
    "\n",
    "def brighten(band, fact=1):\n",
    "    return band * fact\n",
    "\n",
    "def gamma(band):\n",
    "    gamma = 0.8\n",
    "    return np.power(band, 1/gamma)\n",
    "\n",
    "minreflect = 0\n",
    "maxreflect = 0.4\n",
    "rayscatt = [0.013, 0.024, 0.041] # pulled from a sentinelhub example\n",
    "brightfact = 1\n",
    "\n",
    "# rasters store in [band,x,y] format\n",
    "for bi in range(3):\n",
    "    band = img[bi,:,:]\n",
    "    band = gamma(brighten(band, brightfact))\n",
    "    band -= rayscatt[bi]\n",
    "    img[bi,:,:] = band\n",
    "\n",
    "minval, maxval = 0, maxreflect*brightfact\n",
    "img = ((img-minval) / (maxval-minval)).clip(0, 1) * 255\n",
    "\n",
    "rgb_corr_im = rgb_im.from_array(img.astype(np.uint8))"
   ]
  },
  {
   "cell_type": "code",
   "execution_count": 227,
   "id": "b06ccbb3-e7c4-44b9-b163-f8f56ea9fed3",
   "metadata": {},
   "outputs": [],
   "source": [
    "#rgb_corr_im.rescale(get_rescale_range(rgb_corr_im.statistics(), ['b1', 'b2', 'b3']))\n",
    "Image.fromarray(rgb_corr_im.data_as_image()).save('./_rgbgamma.png')"
   ]
  },
  {
   "cell_type": "markdown",
   "id": "3719f886-b91e-440c-b617-136a08fe6c67",
   "metadata": {},
   "source": [
    "# Visual\n",
    "Only works for the S2 data. L8 does not supply true color assets."
   ]
  },
  {
   "cell_type": "code",
   "execution_count": null,
   "id": "e73279f4-61ed-4a3b-b1d0-3c8add484925",
   "metadata": {},
   "outputs": [],
   "source": [
    "visual_im = stac.part(bounds, assets=['visual'])"
   ]
  },
  {
   "cell_type": "code",
   "execution_count": null,
   "id": "9d44257d-78fa-495f-a808-3edad9d2eeec",
   "metadata": {},
   "outputs": [],
   "source": [
    "visual_im.data.shape"
   ]
  },
  {
   "cell_type": "code",
   "execution_count": null,
   "id": "ecac18fc-e8d5-469f-b206-b4c63e6e6b36",
   "metadata": {},
   "outputs": [],
   "source": [
    "Image.fromarray(visual_im.data_as_image()).save('./_visual.png')"
   ]
  },
  {
   "cell_type": "code",
   "execution_count": null,
   "id": "8c23c0e0-8ca8-482d-8224-cfdfc71e5e41",
   "metadata": {},
   "outputs": [],
   "source": []
  }
 ],
 "metadata": {
  "kernelspec": {
   "display_name": "Python 3 (ipykernel)",
   "language": "python",
   "name": "python3"
  },
  "language_info": {
   "codemirror_mode": {
    "name": "ipython",
    "version": 3
   },
   "file_extension": ".py",
   "mimetype": "text/x-python",
   "name": "python",
   "nbconvert_exporter": "python",
   "pygments_lexer": "ipython3",
   "version": "3.11.9"
  }
 },
 "nbformat": 4,
 "nbformat_minor": 5
}
