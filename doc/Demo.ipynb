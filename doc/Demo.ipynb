{
 "cells": [
  {
   "cell_type": "code",
   "execution_count": null,
   "metadata": {},
   "outputs": [],
   "source": [
    "import json\n",
    "from ipyleaflet import Map, GeoJSON\n",
    "\n",
    "from rgd_watch_client import create_watch_client"
   ]
  },
  {
   "cell_type": "markdown",
   "metadata": {},
   "source": [
    "# Login\n",
    "\n",
    "Login into the RGD WATCH production instance using the `rgd_watch_client` package and `create_watch_client`. We are working to make this `pip` installable from the [RD-WACTH](https://github.com/ResonantGeoData/RD-WATCH) repository's GitHub Pages site. At present, a wheel is in the build artifacts for [this CI pipeline](https://github.com/ResonantGeoData/RD-WATCH/actions/workflows/ci.yml)."
   ]
  },
  {
   "cell_type": "code",
   "execution_count": null,
   "metadata": {},
   "outputs": [],
   "source": [
    "client = create_watch_client(username='bane.sullivan@kitware.com', )\n",
    "client"
   ]
  },
  {
   "cell_type": "markdown",
   "metadata": {},
   "source": [
    "# Perfrom a Search\n",
    "\n",
    "We can use a GeoJSON polygon to perform a spatial search:"
   ]
  },
  {
   "cell_type": "code",
   "execution_count": null,
   "metadata": {},
   "outputs": [],
   "source": [
    "bbox = {\"type\":\"Polygon\",\"coordinates\":[[[-45.45413076707502,-24.337204409169036],\n",
    "                                         [-45.45413076707502,-20.600008202090393],\n",
    "                                         [-40.601886755483115,-20.600008202090393],\n",
    "                                         [-40.601886755483115,-24.337204409169036],\n",
    "                                         [-45.45413076707502,-24.337204409169036]]]}\n",
    "\n",
    "q = client.rgd.search(query=json.dumps(bbox), predicate='within', collections=['WorldView'])\n",
    "len(q['results'])"
   ]
  },
  {
   "cell_type": "code",
   "execution_count": null,
   "metadata": {},
   "outputs": [],
   "source": [
    "m = Map(zoom=7, center=[-22.504764632039553, -42.73127563297749])\n",
    "\n",
    "# Add search geometry to map\n",
    "m.add_layer(GeoJSON(data=bbox, style={'fillOpacity': 0}))\n",
    "\n",
    "for s in q['results']:\n",
    "    m.add_layer(GeoJSON(data=s['outline']))\n",
    "\n",
    "m"
   ]
  },
  {
   "cell_type": "markdown",
   "metadata": {},
   "source": [
    "# Inspect a Raster from Search Results"
   ]
  },
  {
   "cell_type": "code",
   "execution_count": null,
   "metadata": {},
   "outputs": [],
   "source": [
    "result = q['results'][0]\n",
    "result"
   ]
  },
  {
   "cell_type": "code",
   "execution_count": null,
   "metadata": {},
   "outputs": [],
   "source": [
    "raster = client.imagery.get_raster(result)\n",
    "raster"
   ]
  },
  {
   "cell_type": "markdown",
   "metadata": {},
   "source": [
    "## Get STAC Item format"
   ]
  },
  {
   "cell_type": "code",
   "execution_count": null,
   "metadata": {},
   "outputs": [],
   "source": [
    "stac = client.imagery.get_raster(result, stac=True)\n",
    "stac"
   ]
  },
  {
   "cell_type": "markdown",
   "metadata": {},
   "source": [
    "## Stream Tiles for Local Visualization"
   ]
  },
  {
   "cell_type": "code",
   "execution_count": null,
   "metadata": {},
   "outputs": [],
   "source": [
    "im = raster['parent_raster']['image_set']['images'][0]\n",
    "im"
   ]
  },
  {
   "cell_type": "code",
   "execution_count": null,
   "metadata": {},
   "outputs": [],
   "source": [
    "m = Map(zoom=11, center=[-22.654202783231515, -43.21436335332692])\n",
    "\n",
    "tiles = client.imagery.get_leaflet_tile_source(im['id'])\n",
    "m.add_layer(tiles)\n",
    "m"
   ]
  },
  {
   "cell_type": "markdown",
   "metadata": {},
   "source": [
    "## Extract Region of Interest"
   ]
  },
  {
   "cell_type": "code",
   "execution_count": null,
   "metadata": {},
   "outputs": [],
   "source": [
    "roi = {\"type\":\"Polygon\",\"coordinates\":[[[-43.2808197484453,-22.731514330238422],[-43.2808197484453,-22.694639112329988],[-43.23286860251871,-22.694639112329988],[-43.23286860251871,-22.731514330238422],[-43.2808197484453,-22.731514330238422]]]}"
   ]
  },
  {
   "cell_type": "code",
   "execution_count": null,
   "metadata": {},
   "outputs": [],
   "source": [
    "m = Map(zoom=11, center=[-22.654202783231515, -43.21436335332692])\n",
    "\n",
    "tiles = client.imagery.get_leaflet_tile_source(im['id'])\n",
    "m.add_layer(tiles)\n",
    "m.add_layer(GeoJSON(data=roi))\n",
    "m"
   ]
  },
  {
   "cell_type": "code",
   "execution_count": null,
   "metadata": {},
   "outputs": [],
   "source": [
    "# Create a Processing group\n",
    "params = {'sample_type': 'geojson', 'projection': 'EPSG:3857'}\n",
    "params.update(roi)\n",
    "group = client.imagery.create_processed_image_group('region', params)"
   ]
  },
  {
   "cell_type": "code",
   "execution_count": null,
   "metadata": {},
   "outputs": [],
   "source": [
    "# Process the single image\n",
    "processed = client.imagery.create_processed_image([im['id']], group)"
   ]
  },
  {
   "cell_type": "code",
   "execution_count": null,
   "metadata": {},
   "outputs": [],
   "source": [
    "# Check status\n",
    "client.imagery.get_processed_image_group_status(group)"
   ]
  },
  {
   "cell_type": "markdown",
   "metadata": {},
   "source": [
    "# Post new data"
   ]
  },
  {
   "cell_type": "code",
   "execution_count": null,
   "metadata": {},
   "outputs": [],
   "source": [
    "# post_stac_file"
   ]
  }
 ],
 "metadata": {
  "kernelspec": {
   "display_name": "Python [conda env:django] *",
   "language": "python",
   "name": "conda-env-django-py"
  },
  "language_info": {
   "codemirror_mode": {
    "name": "ipython",
    "version": 3
   },
   "file_extension": ".py",
   "mimetype": "text/x-python",
   "name": "python",
   "nbconvert_exporter": "python",
   "pygments_lexer": "ipython3",
   "version": "3.8.3"
  }
 },
 "nbformat": 4,
 "nbformat_minor": 4
}
